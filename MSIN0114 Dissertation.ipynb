{
 "cells": [
  {
   "cell_type": "markdown",
   "metadata": {},
   "source": [
    "# Guides for Brides"
   ]
  },
  {
   "cell_type": "markdown",
   "metadata": {},
   "source": [
    "## 1. Prepare Problem and Explore Data"
   ]
  },
  {
   "cell_type": "markdown",
   "metadata": {},
   "source": [
    "### Environment Setup"
   ]
  },
  {
   "cell_type": "code",
   "execution_count": null,
   "metadata": {},
   "outputs": [],
   "source": [
    "# Keras and Tensorflow installation\n",
    "\n",
    "!pip install --ignore-installed --upgrade tensorflow==1.6.0\n",
    "!pip install keras==2.1.5"
   ]
  },
  {
   "cell_type": "code",
   "execution_count": null,
   "metadata": {},
   "outputs": [],
   "source": [
    "# Import Libraries\n",
    "\n",
    "import pandas as pd\n",
    "import numpy as np\n",
    "import random\n",
    "from datetime import datetime\n",
    "import seaborn as sns\n",
    "from sklearn.preprocessing import MinMaxScaler\n",
    "from pandas.tseries.offsets import DateOffset\n",
    "from sklearn.metrics import mean_squared_error, mean_absolute_error\n",
    "import math\n",
    "from math import sqrt\n",
    "\n",
    "# Import for visualisation\n",
    "\n",
    "import matplotlib.pyplot as plt\n",
    "from plotly import tools\n",
    "import plotly as py\n",
    "import plotly.offline as pyoff\n",
    "import plotly.graph_objs as go\n",
    "import plotly.express as px\n",
    "pyoff.init_notebook_mode()\n",
    "import matplotlib.pyplot as plt\n",
    "plt.style.use('fivethirtyeight')\n",
    "\n",
    "# Do not show warnings\n",
    "\n",
    "import warnings\n",
    "warnings.filterwarnings(\"ignore\")\n",
    "\n",
    "# Import Keras\n",
    "\n",
    "from keras.models import Sequential\n",
    "from keras.layers.core import Dense, Activation, Dropout\n",
    "from keras import optimizers\n",
    "from keras.optimizers import Adam \n",
    "from keras.layers import LSTM, GRU, SimpleRNN\n",
    "from keras.preprocessing.sequence import TimeseriesGenerator\n",
    "\n",
    "print ('Import completed')"
   ]
  },
  {
   "cell_type": "code",
   "execution_count": null,
   "metadata": {},
   "outputs": [],
   "source": [
    "# Load Datasets\n",
    "\n",
    "df_users = pd.read_csv('irinie_users_22-06-2020.csv')\n",
    "print('There are {} rows, {} columns in the users dataset.'.format(len(df_users),\n",
    "                                                             len(df_users.columns)))\n",
    "\n",
    "df_budgets = pd.read_csv('irinie_budgets_22-06-2020.csv')\n",
    "print('There are {} rows, {} columns in the first budgets dataset.'.format(len(df_budgets),\n",
    "                                                             len(df_budgets.columns)))\n",
    "\n",
    "df_budgets2 = pd.read_csv('irinie_budgets.csv')\n",
    "print('There are {} rows, {} columns in the second budgets dataset.'.format(len(df_budgets2),\n",
    "                                                             len(df_budgets2.columns)))\n",
    "\n",
    "df_tot_budget = pd.read_csv('irinie_budget_totals_22-06-2020.csv')\n",
    "print('There are {} rows, {} columns in the total wedding budget dataset.'.format(len(df_tot_budget),\n",
    "                                                             len(df_tot_budget.columns)))"
   ]
  },
  {
   "cell_type": "markdown",
   "metadata": {},
   "source": [
    "### Data Inspection"
   ]
  },
  {
   "cell_type": "code",
   "execution_count": null,
   "metadata": {},
   "outputs": [],
   "source": [
    "df_users.columns"
   ]
  },
  {
   "cell_type": "markdown",
   "metadata": {},
   "source": [
    "The identifier 'id' in the users table matches 'qianqian_user_id' in the other tables. All ID's will be renamed to 'user_id' for simplicity and consistency purposes."
   ]
  },
  {
   "cell_type": "code",
   "execution_count": null,
   "metadata": {},
   "outputs": [],
   "source": [
    "df_users.rename(columns={'id':'user_id'}, inplace=True)"
   ]
  },
  {
   "cell_type": "code",
   "execution_count": null,
   "metadata": {},
   "outputs": [],
   "source": [
    "df_budgets.columns"
   ]
  },
  {
   "cell_type": "code",
   "execution_count": null,
   "metadata": {},
   "outputs": [],
   "source": [
    "df_budgets2.columns"
   ]
  },
  {
   "cell_type": "code",
   "execution_count": null,
   "metadata": {},
   "outputs": [],
   "source": [
    "df_budgets.rename(columns={'qianqian_user_id':'user_id'}, inplace=True)"
   ]
  },
  {
   "cell_type": "code",
   "execution_count": null,
   "metadata": {},
   "outputs": [],
   "source": [
    "df_budgets2.rename(columns={'qianqian_user_id':'user_id'}, inplace=True)"
   ]
  },
  {
   "cell_type": "code",
   "execution_count": null,
   "metadata": {},
   "outputs": [],
   "source": [
    "df_tot_budget.columns"
   ]
  },
  {
   "cell_type": "code",
   "execution_count": null,
   "metadata": {},
   "outputs": [],
   "source": [
    "df_tot_budget.rename(columns={'qianqian_user_id':'user_id'}, inplace=True)"
   ]
  },
  {
   "cell_type": "markdown",
   "metadata": {},
   "source": [
    "The concept behind 'budget' differs in the 'df_tot_budget' and 'df_budget' tables, so will be renamed in the 'df_tot_budget' table to distinguish between the two."
   ]
  },
  {
   "cell_type": "code",
   "execution_count": null,
   "metadata": {},
   "outputs": [],
   "source": [
    "df_tot_budget.rename(columns = {'budget':'total_budget'}, inplace = True)"
   ]
  },
  {
   "cell_type": "markdown",
   "metadata": {},
   "source": [
    "### Data Preprocessing"
   ]
  },
  {
   "cell_type": "markdown",
   "metadata": {},
   "source": [
    "#### User Table"
   ]
  },
  {
   "cell_type": "code",
   "execution_count": null,
   "metadata": {
    "scrolled": true
   },
   "outputs": [],
   "source": [
    "df_users = df_users.loc[:,['user_id', 'source', 'engagement_date', 'wedding_year', \n",
    "                           'wedding_month', 'wedding_day','created_at']]\n",
    "df_users.head()"
   ]
  },
  {
   "cell_type": "code",
   "execution_count": null,
   "metadata": {},
   "outputs": [],
   "source": [
    "#Visualise the completeness of dataframe \n",
    "sns.heatmap(df_users.isnull(), cbar=False, yticklabels=False)"
   ]
  },
  {
   "cell_type": "code",
   "execution_count": null,
   "metadata": {},
   "outputs": [],
   "source": [
    "print(f'Missing values in each variable: \\n{df_users.isnull().sum()}')"
   ]
  },
  {
   "cell_type": "markdown",
   "metadata": {},
   "source": [
    "#### Budgets Table"
   ]
  },
  {
   "cell_type": "markdown",
   "metadata": {},
   "source": [
    "We have two budgets tables which span from differing points of time. We shall therefore append the tables to get just one table."
   ]
  },
  {
   "cell_type": "code",
   "execution_count": null,
   "metadata": {},
   "outputs": [],
   "source": [
    "# Convert date field from string to datetime\n",
    "\n",
    "df_budgets2['created_at'] =  pd.to_datetime(df_budgets2['created_at'])"
   ]
  },
  {
   "cell_type": "code",
   "execution_count": null,
   "metadata": {},
   "outputs": [],
   "source": [
    "df_budgets2 = df_budgets2[(df_budgets2.created_at < datetime(2020,3,1)) \n",
    "                             & (df_budgets2.created_at >= datetime(2013,9,1))]"
   ]
  },
  {
   "cell_type": "code",
   "execution_count": null,
   "metadata": {},
   "outputs": [],
   "source": [
    "df_budgets2.created_at.max()"
   ]
  },
  {
   "cell_type": "code",
   "execution_count": null,
   "metadata": {},
   "outputs": [],
   "source": [
    "df_budgets['created_at'] =  pd.to_datetime(df_budgets['created_at'])"
   ]
  },
  {
   "cell_type": "code",
   "execution_count": null,
   "metadata": {},
   "outputs": [],
   "source": [
    "df_budgets.created_at.max()"
   ]
  },
  {
   "cell_type": "code",
   "execution_count": null,
   "metadata": {},
   "outputs": [],
   "source": [
    "# Append budgets tables\n",
    "\n",
    "df_budgets = df_budgets.append(df_budgets2, ignore_index = True)"
   ]
  },
  {
   "cell_type": "code",
   "execution_count": null,
   "metadata": {},
   "outputs": [],
   "source": [
    "df_budgets = df_budgets.loc[:,['planner_supplier_id', 'user_id', 'business_category',\n",
    "       'budget', 'quote', 'deposit', 'booked', 'deposit_paid', 'balance_paid','created_at','updated_at']]\n",
    "df_budgets.head()"
   ]
  },
  {
   "cell_type": "code",
   "execution_count": null,
   "metadata": {},
   "outputs": [],
   "source": [
    "print('There are {} rows, {} columns in the complete budgets dataset.'.format(len(df_budgets),\n",
    "                                                             len(df_budgets.columns)))"
   ]
  },
  {
   "cell_type": "markdown",
   "metadata": {},
   "source": [
    "Variables 'booked', 'deposit_paid' and 'balance_paid' will be amended to numerical dummy variables for ease in data analysis."
   ]
  },
  {
   "cell_type": "code",
   "execution_count": null,
   "metadata": {},
   "outputs": [],
   "source": [
    "df_budgets['booked'] = pd.Series(np.where(df_budgets.booked.values == 'yes', 1, 0),\n",
    "          df_budgets.index)"
   ]
  },
  {
   "cell_type": "code",
   "execution_count": null,
   "metadata": {},
   "outputs": [],
   "source": [
    "df_budgets['deposit_paid'] = pd.Series(np.where(df_budgets.deposit_paid.values == 'yes', 1, 0),\n",
    "          df_budgets.index)"
   ]
  },
  {
   "cell_type": "code",
   "execution_count": null,
   "metadata": {},
   "outputs": [],
   "source": [
    "df_budgets['balance_paid'] = pd.Series(np.where(df_budgets.balance_paid.values == 'yes', 1, 0),\n",
    "          df_budgets.index)"
   ]
  },
  {
   "cell_type": "code",
   "execution_count": null,
   "metadata": {},
   "outputs": [],
   "source": [
    "df_budgets.head()"
   ]
  },
  {
   "cell_type": "code",
   "execution_count": null,
   "metadata": {},
   "outputs": [],
   "source": [
    "df_budgets = df_budgets[df_budgets['budget'] <= 32000]  "
   ]
  },
  {
   "cell_type": "code",
   "execution_count": null,
   "metadata": {},
   "outputs": [],
   "source": [
    "len(df_budgets)"
   ]
  },
  {
   "cell_type": "code",
   "execution_count": null,
   "metadata": {},
   "outputs": [],
   "source": [
    "df_budgets.booked.value_counts()"
   ]
  },
  {
   "cell_type": "code",
   "execution_count": null,
   "metadata": {},
   "outputs": [],
   "source": [
    "df_budgets.deposit_paid.value_counts()"
   ]
  },
  {
   "cell_type": "code",
   "execution_count": null,
   "metadata": {},
   "outputs": [],
   "source": [
    "df_budgets.balance_paid.value_counts()"
   ]
  },
  {
   "cell_type": "code",
   "execution_count": null,
   "metadata": {},
   "outputs": [],
   "source": [
    "#Visualise the completeness of dataframe \n",
    "sns.heatmap(df_budgets.isnull(), cbar=False, yticklabels=False);"
   ]
  },
  {
   "cell_type": "code",
   "execution_count": null,
   "metadata": {},
   "outputs": [],
   "source": [
    "print(f'Missing values in each variable: \\n{df_budgets.isnull().sum()}')"
   ]
  },
  {
   "cell_type": "markdown",
   "metadata": {},
   "source": [
    "## 2. Visualise Data"
   ]
  },
  {
   "cell_type": "code",
   "execution_count": null,
   "metadata": {},
   "outputs": [],
   "source": [
    "def statistics(variable):\n",
    "    if variable.dtype == 'int64' or variable.dtype == 'float64':\n",
    "        return pd.DataFrame([[variable.name, np.mean(variable), np.std(variable), np.median(variable), np.var(variable)]], \n",
    "                            columns = ['Variable', 'Mean', 'Standard Deviation', 'Median', 'Variance']).set_index('Variable')\n",
    "    else:\n",
    "        return pd.DataFrame(variable.value_counts())"
   ]
  },
  {
   "cell_type": "code",
   "execution_count": null,
   "metadata": {},
   "outputs": [],
   "source": [
    "fig = px.histogram(df_users, x = 'wedding_month', nbins = 20)\n",
    "fig.update_layout(title = 'Wedding Month Distribution')\n",
    "fig.show()"
   ]
  },
  {
   "cell_type": "code",
   "execution_count": null,
   "metadata": {},
   "outputs": [],
   "source": [
    "wedding_month = df_users['wedding_month']\n",
    "statistics(wedding_month)"
   ]
  },
  {
   "cell_type": "code",
   "execution_count": null,
   "metadata": {},
   "outputs": [],
   "source": [
    "fig = px.histogram(df_users, x = 'wedding_day', nbins = 20)\n",
    "fig.update_layout(title = 'Wedding Day Distribution')\n",
    "fig.show()"
   ]
  },
  {
   "cell_type": "code",
   "execution_count": null,
   "metadata": {},
   "outputs": [],
   "source": [
    "wedding_day = df_users['wedding_day']\n",
    "statistics(wedding_day)"
   ]
  },
  {
   "cell_type": "code",
   "execution_count": null,
   "metadata": {
    "scrolled": true
   },
   "outputs": [],
   "source": [
    "source_category = round(df_users['source'].value_counts(normalize = True) * 100, 3)\n",
    "source_category = pd.DataFrame({'source':source_category.index, 'percentage':source_category.values})\n",
    "source_category.head()"
   ]
  },
  {
   "cell_type": "code",
   "execution_count": null,
   "metadata": {},
   "outputs": [],
   "source": [
    "fig = px.bar(source_category, x = 'source', y = 'percentage')\n",
    "fig.update_layout(title = 'User\\'s First Interaction')\n",
    "fig.show()"
   ]
  },
  {
   "cell_type": "code",
   "execution_count": null,
   "metadata": {},
   "outputs": [],
   "source": [
    "booked = round(df_budgets['booked'].value_counts(normalize = True) * 100,)\n",
    "booked = pd.DataFrame({'booked':booked.index, 'percentage':booked.values})\n",
    "booked.head()"
   ]
  },
  {
   "cell_type": "code",
   "execution_count": null,
   "metadata": {},
   "outputs": [],
   "source": [
    "fig = px.bar(booked, x = 'booked', y = 'percentage')\n",
    "fig.update_layout(title = 'Booking Distribution')\n",
    "fig.show()"
   ]
  },
  {
   "cell_type": "code",
   "execution_count": null,
   "metadata": {},
   "outputs": [],
   "source": [
    "supplier_category = round(df_budgets['business_category'].value_counts(normalize = True) * 100, 3)\n",
    "supplier_category = pd.DataFrame({'business_category':supplier_category.index, 'percentage':supplier_category.values})\n",
    "supplier_category.head()"
   ]
  },
  {
   "cell_type": "code",
   "execution_count": null,
   "metadata": {},
   "outputs": [],
   "source": [
    "fig = px.bar(supplier_category, x = 'business_category', y = 'percentage')\n",
    "fig.update_layout(title = 'Supplier Usage')\n",
    "fig.show()"
   ]
  },
  {
   "cell_type": "code",
   "execution_count": null,
   "metadata": {},
   "outputs": [],
   "source": [
    "df = px.data.iris() # iris is a pandas DataFrame\n",
    "fig = px.scatter(df_budgets, x = 'business_category', y = 'budget')\n",
    "fig.update_layout(title = 'User Budgets per Category')\n",
    "fig.show()"
   ]
  },
  {
   "cell_type": "markdown",
   "metadata": {},
   "source": [
    "## 3. Predict Bookings"
   ]
  },
  {
   "cell_type": "markdown",
   "metadata": {},
   "source": [
    "### Data Preparation"
   ]
  },
  {
   "cell_type": "code",
   "execution_count": null,
   "metadata": {},
   "outputs": [],
   "source": [
    "# Retrieve user bookings\n",
    "df_budgets = df_budgets.loc[df_budgets['booked'] == 1]\n",
    "df_budgets.head()"
   ]
  },
  {
   "cell_type": "code",
   "execution_count": null,
   "metadata": {},
   "outputs": [],
   "source": [
    "len(df_budgets)"
   ]
  },
  {
   "cell_type": "code",
   "execution_count": null,
   "metadata": {},
   "outputs": [],
   "source": [
    "df_budgets.rename(columns = {'created_at':'date'}, inplace = True)"
   ]
  },
  {
   "cell_type": "code",
   "execution_count": null,
   "metadata": {},
   "outputs": [],
   "source": [
    "# Represent month in date field as its first day\n",
    "df_budgets['date'] = df_budgets['date'].dt.year.astype('str') + '-' + df_budgets['date'].dt.month.astype('str') + '-01'\n",
    "df_budgets['date'] = pd.to_datetime(df_budgets['date'])\n",
    "\n",
    "# Groupby date and sum the sales\n",
    "df_budgets = df_budgets.groupby('date').booked.sum().reset_index()"
   ]
  },
  {
   "cell_type": "code",
   "execution_count": null,
   "metadata": {},
   "outputs": [],
   "source": [
    "df_budgets.head()"
   ]
  },
  {
   "cell_type": "code",
   "execution_count": null,
   "metadata": {},
   "outputs": [],
   "source": [
    "#plot monthly sales\n",
    "plot_data = [\n",
    "    go.Scatter(\n",
    "        x = df_budgets['date'],\n",
    "        y = df_budgets['booked'],\n",
    "    )\n",
    "]\n",
    "plot_layout = go.Layout(\n",
    "        title = 'User Bookings Overtime'\n",
    "    )\n",
    "fig = go.Figure(data = plot_data, layout = plot_layout)\n",
    "pyoff.iplot(fig)"
   ]
  },
  {
   "cell_type": "code",
   "execution_count": null,
   "metadata": {},
   "outputs": [],
   "source": [
    "#create a new dataframe to model the difference\n",
    "df_diff = df_budgets.copy()\n",
    "#add previous sales to the next row\n",
    "df_diff['prev_sales'] = df_diff['booked'].shift(1)\n",
    "#drop the null values and calculate the difference\n",
    "df_diff = df_diff.dropna()\n",
    "df_diff['diff'] = (df_diff['booked'] - df_diff['prev_sales'])\n",
    "df_diff.head(10)"
   ]
  },
  {
   "cell_type": "code",
   "execution_count": null,
   "metadata": {},
   "outputs": [],
   "source": [
    "#plot sales diff\n",
    "plot_data = [\n",
    "    go.Scatter(\n",
    "        x = df_diff['date'],\n",
    "        y = df_diff['diff'],\n",
    "    )\n",
    "]\n",
    "plot_layout = go.Layout(\n",
    "        title = 'Monthly Bookings Diff'\n",
    "    )\n",
    "fig = go.Figure(data = plot_data, layout = plot_layout)\n",
    "pyoff.iplot(fig)"
   ]
  },
  {
   "cell_type": "code",
   "execution_count": null,
   "metadata": {},
   "outputs": [],
   "source": [
    "# Create dataframe for transformation from time series to supervised\n",
    "\n",
    "df_supervised = df_diff.drop(['prev_sales'],axis = 1)\n",
    "\n",
    "# Adding lags\n",
    "\n",
    "for i in range(1,28):\n",
    "    field_name = 'lag_' + str(i)\n",
    "    df_supervised[field_name] = df_supervised['diff'].shift(i)\n",
    "    \n",
    "#Drop null values\n",
    "\n",
    "df_supervised = df_supervised.dropna().reset_index(drop = True)"
   ]
  },
  {
   "cell_type": "code",
   "execution_count": null,
   "metadata": {},
   "outputs": [],
   "source": [
    "df_supervised"
   ]
  },
  {
   "cell_type": "code",
   "execution_count": null,
   "metadata": {},
   "outputs": [],
   "source": [
    "# Import statsmodels.formula.api\n",
    "\n",
    "import statsmodels.formula.api as smf\n",
    "\n",
    "# Define the regression formula\n",
    "\n",
    "model = smf.ols(formula='diff ~ lag_1 + lag_2 + lag_3 + lag_4 + lag_5 + lag_6 + lag_7 + lag_8 + lag_9 + lag_10 + lag_11 + lag_12 + lag_13 + lag_14 + lag_15 + lag_16 + lag_17 + lag_18 + lag_19 + lag_20 + lag_21 + lag_22 + lag_23', data =df_supervised)\n",
    "\n",
    "# Fit the regression\n",
    "\n",
    "model_fit = model.fit()\n",
    "\n",
    "# Extract the adjusted r-squared\n",
    "\n",
    "regression_adj_rsq = model_fit.rsquared_adj\n",
    "print(regression_adj_rsq)"
   ]
  },
  {
   "cell_type": "code",
   "execution_count": null,
   "metadata": {},
   "outputs": [],
   "source": [
    "regression_rsq = model_fit.rsquared\n",
    "print(regression_rsq)"
   ]
  },
  {
   "cell_type": "code",
   "execution_count": null,
   "metadata": {},
   "outputs": [],
   "source": [
    "# Import MinMaxScaler and create a new dataframe for LSTM model\n",
    "\n",
    "df_model = df_supervised.drop(['booked'],axis = 1)\n",
    "df_model = df_model.set_index('date')"
   ]
  },
  {
   "cell_type": "code",
   "execution_count": null,
   "metadata": {},
   "outputs": [],
   "source": [
    "# Split train and test set\n",
    "\n",
    "train_set, test_set = df_model[0:-6].values, df_model[-6:].values"
   ]
  },
  {
   "cell_type": "code",
   "execution_count": null,
   "metadata": {},
   "outputs": [],
   "source": [
    "# Apply Min Max Scaler\n",
    "\n",
    "scaler = MinMaxScaler(feature_range=(-1, 1))\n",
    "scaler = scaler.fit(train_set)"
   ]
  },
  {
   "cell_type": "code",
   "execution_count": null,
   "metadata": {},
   "outputs": [],
   "source": [
    "# Reshape training set\n",
    "\n",
    "train_set = train_set.reshape(train_set.shape[0], train_set.shape[1])\n",
    "train_set_scaled = scaler.transform(train_set)\n",
    "\n",
    "# Reshape test set\n",
    "\n",
    "test_set = test_set.reshape(test_set.shape[0], test_set.shape[1])\n",
    "test_set_scaled = scaler.transform(test_set)"
   ]
  },
  {
   "cell_type": "code",
   "execution_count": null,
   "metadata": {},
   "outputs": [],
   "source": [
    "X_train, y_train = train_set_scaled[:, 1:], train_set_scaled[:, 0:1]\n",
    "X_train = X_train.reshape(X_train.shape[0], 1, X_train.shape[1])\n",
    "X_test, y_test = test_set_scaled[:, 1:], test_set_scaled[:, 0:1]\n",
    "X_test = X_test.reshape(X_test.shape[0], 1, X_test.shape[1])"
   ]
  },
  {
   "cell_type": "markdown",
   "metadata": {},
   "source": [
    "#### Simple RNN (SGD)"
   ]
  },
  {
   "cell_type": "code",
   "execution_count": null,
   "metadata": {},
   "outputs": [],
   "source": [
    "# Build Model\n",
    "\n",
    "np.random.seed(1337)\n",
    "print('Building model...')\n",
    "model = Sequential()\n",
    "model.add(SimpleRNN(4, batch_input_shape=(1, X_train.shape[1], X_train.shape[2]), stateful = True))\n",
    "model.add(Dropout(0.2))\n",
    "model.add(Dense(1))\n",
    "model.add(Activation('relu'))\n",
    "model.compile(loss = 'mean_squared_error', optimizer = 'SGD', metrics = ['mse'])"
   ]
  },
  {
   "cell_type": "code",
   "execution_count": null,
   "metadata": {},
   "outputs": [],
   "source": [
    "history = model.fit(X_train, y_train, epochs = 10, batch_size = 1, validation_data = (X_test, y_test), verbose = 0, shuffle = False)"
   ]
  },
  {
   "cell_type": "code",
   "execution_count": null,
   "metadata": {},
   "outputs": [],
   "source": [
    "# Plot history: MSE\n",
    "\n",
    "plt.plot(history.history['mean_squared_error'], label='MSE (training data)')\n",
    "plt.plot(history.history['val_mean_squared_error'], label='MSE (validation data)')\n",
    "plt.ylabel('MSE value')\n",
    "plt.xlabel('No. epoch')\n",
    "plt.legend(loc=\"upper left\")\n",
    "plt.show()"
   ]
  },
  {
   "cell_type": "code",
   "execution_count": null,
   "metadata": {},
   "outputs": [],
   "source": [
    "test_pred = model.predict(X_test,batch_size=1)\n",
    "train_pred = model.predict(X_train,batch_size=1)"
   ]
  },
  {
   "cell_type": "code",
   "execution_count": null,
   "metadata": {},
   "outputs": [],
   "source": [
    "# Seeing the booking prediction\n",
    "# Reshape y_pred and train_pred\n",
    "\n",
    "test_pred_inv = test_pred .reshape(test_pred .shape[0], 1, test_pred .shape[1])\n",
    "train_pred_inv = train_pred.reshape(train_pred.shape[0], 1, train_pred.shape[1])"
   ]
  },
  {
   "cell_type": "code",
   "execution_count": null,
   "metadata": {},
   "outputs": [],
   "source": [
    "# Rebuild test set for inverse transform\n",
    "\n",
    "pred_test_set = []\n",
    "for index in range(0,len(test_pred )):\n",
    "    np.concatenate([test_pred_inv[index],X_test[index]],axis = 1)\n",
    "    pred_test_set.append(np.concatenate([test_pred_inv[index],X_test[index]],axis = 1))"
   ]
  },
  {
   "cell_type": "code",
   "execution_count": null,
   "metadata": {},
   "outputs": [],
   "source": [
    "# Rebuild train set for inverse transform\n",
    "\n",
    "pred_train_set = []\n",
    "for index in range(0,len(train_pred)):\n",
    "    np.concatenate([train_pred_inv[index],X_train[index]],axis = 1)\n",
    "    pred_train_set.append(np.concatenate([train_pred_inv[index],X_train[index]],axis = 1))"
   ]
  },
  {
   "cell_type": "code",
   "execution_count": null,
   "metadata": {},
   "outputs": [],
   "source": [
    "# Reshape pred_test_set and pred_train_set\n",
    "\n",
    "pred_test_set = np.array(pred_test_set)\n",
    "pred_test_set = pred_test_set.reshape(pred_test_set.shape[0], pred_test_set.shape[2])\n",
    "pred_train_set = np.array(pred_train_set)\n",
    "pred_train_set = pred_train_set.reshape(pred_train_set.shape[0], pred_train_set.shape[2])"
   ]
  },
  {
   "cell_type": "code",
   "execution_count": null,
   "metadata": {},
   "outputs": [],
   "source": [
    "#Inverse transform\n",
    "\n",
    "pred_test_set_inverted = scaler.inverse_transform(pred_test_set)\n",
    "pred_train_set_inverted = scaler.inverse_transform(pred_train_set)"
   ]
  },
  {
   "cell_type": "code",
   "execution_count": null,
   "metadata": {},
   "outputs": [],
   "source": [
    "df_budgets_new = df_budgets[28:53].reset_index(drop=True)"
   ]
  },
  {
   "cell_type": "code",
   "execution_count": null,
   "metadata": {},
   "outputs": [],
   "source": [
    "# Create dataframe that shows the predicted sales (test)\n",
    "\n",
    "result_list = []\n",
    "booking_dates = list(df_budgets_new[-6:].date)\n",
    "act_bookings = list(df_budgets_new[-6:].booked)\n",
    "for i in range(0,len(pred_test_set_inverted)):\n",
    "    result_dict = {}\n",
    "    result_dict['pred_value'] = int(pred_test_set_inverted[i][0] + act_bookings[i])\n",
    "    result_dict['date'] = booking_dates[i]\n",
    "    result_list.append(result_dict)\n",
    "df_result = pd.DataFrame(result_list)"
   ]
  },
  {
   "cell_type": "code",
   "execution_count": null,
   "metadata": {},
   "outputs": [],
   "source": [
    "train_list = df_budgets[28:47].reset_index(drop=True)"
   ]
  },
  {
   "cell_type": "code",
   "execution_count": null,
   "metadata": {
    "scrolled": true
   },
   "outputs": [],
   "source": [
    "# Create dataframe that shows the predicted sales (train)\n",
    "\n",
    "result_list2 = []\n",
    "booking_dates2 = list(train_list.date)\n",
    "act_bookings2 = list(train_list.booked)\n",
    "for i in range(0,len(pred_train_set_inverted)):\n",
    "    result_dict2 = {}\n",
    "    result_dict2['pred_value'] = int(pred_train_set_inverted[i][0] + act_bookings2[i])\n",
    "    result_dict2['date'] = booking_dates2[i]\n",
    "    result_list2.append(result_dict2)\n",
    "df_result2 = pd.DataFrame(result_list2)"
   ]
  },
  {
   "cell_type": "code",
   "execution_count": null,
   "metadata": {},
   "outputs": [],
   "source": [
    "# Merge with actual sales dataframe\n",
    "\n",
    "df_budgets_test = pd.merge(df_budgets_new,df_result,on = 'date',how = 'left')\n",
    "df_budgets_train = pd.merge(df_budgets_new,df_result2,on = 'date',how = 'left')"
   ]
  },
  {
   "cell_type": "code",
   "execution_count": null,
   "metadata": {},
   "outputs": [],
   "source": [
    "#Plot actual and predicted\n",
    "\n",
    "plot_data = [\n",
    "    go.Scatter(\n",
    "        x = df_budgets_new['date'],\n",
    "        y = df_budgets_new['booked'],\n",
    "        name='Actual'\n",
    "    ),\n",
    "        go.Scatter(\n",
    "        x = df_budgets_test['date'],\n",
    "        y = df_budgets_test['pred_value'],\n",
    "        name = 'Test Prediction'\n",
    "    ),\n",
    "        go.Scatter(\n",
    "        x = df_budgets_train['date'],\n",
    "        y = df_budgets_train['pred_value'],\n",
    "        name = 'Train Prediction'\n",
    "    )\n",
    "    \n",
    "]\n",
    "\n",
    "plot_layout = go.Layout(\n",
    "        title = 'Booking Prediction Using SimpleRNN (SGD)'\n",
    "    )\n",
    "fig = go.Figure(data = plot_data, layout = plot_layout)\n",
    "pyoff.iplot(fig)"
   ]
  },
  {
   "cell_type": "code",
   "execution_count": null,
   "metadata": {},
   "outputs": [],
   "source": [
    "# Calculate RMSE and MAE\n",
    "\n",
    "def return_rmse(test,predicted):\n",
    "    math.sqrt(mean_squared_error(test, predicted))\n",
    "    \n",
    "def return_mae(test,predicted):\n",
    "    math.sqrt(mean_absolute_error(test, predicted))"
   ]
  },
  {
   "cell_type": "code",
   "execution_count": null,
   "metadata": {
    "scrolled": true
   },
   "outputs": [],
   "source": [
    "rmse = sqrt(mean_squared_error(y_test, test_pred))\n",
    "print('Test RMSE: %.3f' % rmse)\n",
    "\n",
    "mae = sqrt(mean_absolute_error(y_test, test_pred))\n",
    "print('Test MAE: %.3f' % mae)"
   ]
  },
  {
   "cell_type": "code",
   "execution_count": null,
   "metadata": {},
   "outputs": [],
   "source": [
    "rmse = sqrt(mean_squared_error(y_train, train_pred))\n",
    "print('Train RMSE: %.3f' % rmse)\n",
    "\n",
    "mae = sqrt(mean_absolute_error(y_train, train_pred))\n",
    "print('Train MAE: %.3f' % mae)"
   ]
  },
  {
   "cell_type": "markdown",
   "metadata": {},
   "source": [
    "#### Simple RNN (Adam)"
   ]
  },
  {
   "cell_type": "code",
   "execution_count": null,
   "metadata": {},
   "outputs": [],
   "source": [
    "# Build Model\n",
    "\n",
    "np.random.seed(1337)\n",
    "print('Building model...')\n",
    "model = Sequential()\n",
    "model.add(SimpleRNN(4, batch_input_shape=(1, X_train.shape[1], X_train.shape[2]), stateful = True))\n",
    "model.add(Dropout(0.2))\n",
    "model.add(Dense(1))\n",
    "model.add(Activation('relu'))\n",
    "model.compile(loss = 'mean_squared_error', optimizer = 'adam', metrics = ['mse'])"
   ]
  },
  {
   "cell_type": "code",
   "execution_count": null,
   "metadata": {},
   "outputs": [],
   "source": [
    "history = model.fit(X_train, y_train, epochs = 10, batch_size = 1, validation_data = (X_test, y_test), verbose = 0, shuffle = False)"
   ]
  },
  {
   "cell_type": "code",
   "execution_count": null,
   "metadata": {},
   "outputs": [],
   "source": [
    "# Plot history: MSE\n",
    "\n",
    "plt.plot(history.history['mean_squared_error'], label='MSE (training data)')\n",
    "plt.plot(history.history['val_mean_squared_error'], label='MSE (validation data)')\n",
    "plt.ylabel('MSE value')\n",
    "plt.xlabel('No. epoch')\n",
    "plt.legend(loc=\"upper left\")\n",
    "plt.show()"
   ]
  },
  {
   "cell_type": "code",
   "execution_count": null,
   "metadata": {},
   "outputs": [],
   "source": [
    "test_pred = model.predict(X_test,batch_size=1)\n",
    "train_pred = model.predict(X_train,batch_size=1)"
   ]
  },
  {
   "cell_type": "code",
   "execution_count": null,
   "metadata": {},
   "outputs": [],
   "source": [
    "# Seeing the booking prediction\n",
    "# Reshape y_pred and train_pred\n",
    "\n",
    "test_pred_inv = test_pred .reshape(test_pred .shape[0], 1, test_pred .shape[1])\n",
    "train_pred_inv = train_pred.reshape(train_pred.shape[0], 1, train_pred.shape[1])"
   ]
  },
  {
   "cell_type": "code",
   "execution_count": null,
   "metadata": {},
   "outputs": [],
   "source": [
    "# Rebuild test set for inverse transform\n",
    "\n",
    "pred_test_set = []\n",
    "for index in range(0,len(test_pred )):\n",
    "    np.concatenate([test_pred_inv[index],X_test[index]],axis = 1)\n",
    "    pred_test_set.append(np.concatenate([test_pred_inv[index],X_test[index]],axis = 1))"
   ]
  },
  {
   "cell_type": "code",
   "execution_count": null,
   "metadata": {},
   "outputs": [],
   "source": [
    "# Rebuild train set for inverse transform\n",
    "\n",
    "pred_train_set = []\n",
    "for index in range(0,len(train_pred)):\n",
    "    np.concatenate([train_pred_inv[index],X_train[index]],axis = 1)\n",
    "    pred_train_set.append(np.concatenate([train_pred_inv[index],X_train[index]],axis = 1))"
   ]
  },
  {
   "cell_type": "code",
   "execution_count": null,
   "metadata": {},
   "outputs": [],
   "source": [
    "# Reshape pred_test_set and pred_train_set\n",
    "\n",
    "pred_test_set = np.array(pred_test_set)\n",
    "pred_test_set = pred_test_set.reshape(pred_test_set.shape[0], pred_test_set.shape[2])\n",
    "pred_train_set = np.array(pred_train_set)\n",
    "pred_train_set = pred_train_set.reshape(pred_train_set.shape[0], pred_train_set.shape[2])"
   ]
  },
  {
   "cell_type": "code",
   "execution_count": null,
   "metadata": {},
   "outputs": [],
   "source": [
    "# Inverse transform\n",
    "\n",
    "pred_test_set_inverted = scaler.inverse_transform(pred_test_set)\n",
    "pred_train_set_inverted = scaler.inverse_transform(pred_train_set)"
   ]
  },
  {
   "cell_type": "code",
   "execution_count": null,
   "metadata": {},
   "outputs": [],
   "source": [
    "# Create dataframe that shows the predicted sales (test)\n",
    "\n",
    "result_list = []\n",
    "booking_dates = list(df_budgets_new[-6:].date)\n",
    "act_bookings = list(df_budgets_new[-6:].booked)\n",
    "for i in range(0,len(pred_test_set_inverted)):\n",
    "    result_dict = {}\n",
    "    result_dict['pred_value'] = int(pred_test_set_inverted[i][0] + act_bookings[i])\n",
    "    result_dict['date'] = booking_dates[i]\n",
    "    result_list.append(result_dict)\n",
    "df_result = pd.DataFrame(result_list)"
   ]
  },
  {
   "cell_type": "code",
   "execution_count": null,
   "metadata": {
    "scrolled": true
   },
   "outputs": [],
   "source": [
    "# Create dataframe that shows the predicted sales (train)\n",
    "\n",
    "result_list2 = []\n",
    "booking_dates2 = list(train_list.date)\n",
    "act_bookings2 = list(train_list.booked)\n",
    "for i in range(0,len(pred_train_set_inverted)):\n",
    "    result_dict2 = {}\n",
    "    result_dict2['pred_value'] = int(pred_train_set_inverted[i][0] + act_bookings2[i])\n",
    "    result_dict2['date'] = booking_dates2[i]\n",
    "    result_list2.append(result_dict2)\n",
    "df_result2 = pd.DataFrame(result_list2)"
   ]
  },
  {
   "cell_type": "code",
   "execution_count": null,
   "metadata": {},
   "outputs": [],
   "source": [
    "# Merge with actual sales dataframe\n",
    "\n",
    "df_budgets_test2 = pd.merge(df_budgets_new,df_result,on = 'date',how = 'left')\n",
    "df_budgets_train2 = pd.merge(df_budgets_new,df_result2,on = 'date',how = 'left')"
   ]
  },
  {
   "cell_type": "code",
   "execution_count": null,
   "metadata": {},
   "outputs": [],
   "source": [
    "# Plot actual and predicted\n",
    "\n",
    "plot_data = [\n",
    "    go.Scatter(\n",
    "        x = df_budgets_new['date'],\n",
    "        y = df_budgets_new['booked'],\n",
    "        name='Actual'\n",
    "    ),\n",
    "        go.Scatter(\n",
    "        x = df_budgets_test2['date'],\n",
    "        y = df_budgets_test2['pred_value'],\n",
    "        name = 'Test Prediction'\n",
    "    ),\n",
    "        go.Scatter(\n",
    "        x = df_budgets_train2['date'],\n",
    "        y = df_budgets_train2['pred_value'],\n",
    "        name = 'Train Prediction'\n",
    "    )\n",
    "    \n",
    "]\n",
    "\n",
    "plot_layout = go.Layout(\n",
    "        title = 'Booking Prediction Using Simple RNN (Adam)'\n",
    "    )\n",
    "fig = go.Figure(data = plot_data, layout = plot_layout)\n",
    "pyoff.iplot(fig)"
   ]
  },
  {
   "cell_type": "code",
   "execution_count": null,
   "metadata": {
    "scrolled": true
   },
   "outputs": [],
   "source": [
    "rmse = sqrt(mean_squared_error(y_test, test_pred))\n",
    "print('Test RMSE: %.3f' % rmse)\n",
    "\n",
    "mae = sqrt(mean_absolute_error(y_test, test_pred))\n",
    "print('Test MAE: %.3f' % mae)"
   ]
  },
  {
   "cell_type": "code",
   "execution_count": null,
   "metadata": {},
   "outputs": [],
   "source": [
    "rmse = sqrt(mean_squared_error(y_train, train_pred))\n",
    "print('Train RMSE: %.3f' % rmse)\n",
    "\n",
    "mae = sqrt(mean_absolute_error(y_train, train_pred))\n",
    "print('Train MAE: %.3f' % mae)"
   ]
  },
  {
   "cell_type": "markdown",
   "metadata": {},
   "source": [
    "#### LSTM (SGD)"
   ]
  },
  {
   "cell_type": "code",
   "execution_count": null,
   "metadata": {},
   "outputs": [],
   "source": [
    "# Build Model\n",
    "\n",
    "np.random.seed(1337)\n",
    "print('Building model...')\n",
    "model = Sequential()\n",
    "model.add(LSTM(4, batch_input_shape=(1, X_train.shape[1], X_train.shape[2]), stateful=True))\n",
    "model.add(Dropout(0.2))\n",
    "model.add(Dense(1))\n",
    "model.add(Activation('relu'))\n",
    "model.compile(loss = 'mean_squared_error', optimizer = 'SGD', metrics = ['mse'])"
   ]
  },
  {
   "cell_type": "code",
   "execution_count": null,
   "metadata": {},
   "outputs": [],
   "source": [
    "history = model.fit(X_train, y_train, epochs = 10, batch_size = 1, validation_data = (X_test, y_test), verbose = 0, shuffle = False)"
   ]
  },
  {
   "cell_type": "code",
   "execution_count": null,
   "metadata": {},
   "outputs": [],
   "source": [
    "# Plot history: MSE\n",
    "\n",
    "plt.plot(history.history['mean_squared_error'], label='MSE (training data)')\n",
    "plt.plot(history.history['val_mean_squared_error'], label='MSE (validation data)')\n",
    "plt.ylabel('MSE value')\n",
    "plt.xlabel('No. epoch')\n",
    "plt.legend(loc=\"upper left\")\n",
    "plt.show()"
   ]
  },
  {
   "cell_type": "code",
   "execution_count": null,
   "metadata": {},
   "outputs": [],
   "source": [
    "test_pred = model.predict(X_test,batch_size=1)\n",
    "train_pred = model.predict(X_train,batch_size=1)"
   ]
  },
  {
   "cell_type": "code",
   "execution_count": null,
   "metadata": {},
   "outputs": [],
   "source": [
    "# Seeing the booking prediction\n",
    "# Reshape y_pred and train_pred\n",
    "\n",
    "test_pred_inv = test_pred .reshape(test_pred .shape[0], 1, test_pred .shape[1])\n",
    "train_pred_inv = train_pred.reshape(train_pred.shape[0], 1, train_pred.shape[1])"
   ]
  },
  {
   "cell_type": "code",
   "execution_count": null,
   "metadata": {},
   "outputs": [],
   "source": [
    "# Rebuild test set for inverse transform\n",
    "\n",
    "pred_test_set = []\n",
    "for index in range(0,len(test_pred )):\n",
    "    np.concatenate([test_pred_inv[index],X_test[index]],axis = 1)\n",
    "    pred_test_set.append(np.concatenate([test_pred_inv[index],X_test[index]],axis = 1))"
   ]
  },
  {
   "cell_type": "code",
   "execution_count": null,
   "metadata": {},
   "outputs": [],
   "source": [
    "# Rebuild train set for inverse transform\n",
    "\n",
    "pred_train_set = []\n",
    "for index in range(0,len(train_pred)):\n",
    "    np.concatenate([train_pred_inv[index],X_train[index]],axis = 1)\n",
    "    pred_train_set.append(np.concatenate([train_pred_inv[index],X_train[index]],axis = 1))"
   ]
  },
  {
   "cell_type": "code",
   "execution_count": null,
   "metadata": {},
   "outputs": [],
   "source": [
    "# Reshape pred_test_set and pred_train_set\n",
    "\n",
    "pred_test_set = np.array(pred_test_set)\n",
    "pred_test_set = pred_test_set.reshape(pred_test_set.shape[0], pred_test_set.shape[2])\n",
    "pred_train_set = np.array(pred_train_set)\n",
    "pred_train_set = pred_train_set.reshape(pred_train_set.shape[0], pred_train_set.shape[2])"
   ]
  },
  {
   "cell_type": "code",
   "execution_count": null,
   "metadata": {},
   "outputs": [],
   "source": [
    "# Inverse transform\n",
    "\n",
    "pred_test_set_inverted = scaler.inverse_transform(pred_test_set)\n",
    "pred_train_set_inverted = scaler.inverse_transform(pred_train_set)"
   ]
  },
  {
   "cell_type": "code",
   "execution_count": null,
   "metadata": {},
   "outputs": [],
   "source": [
    "# Create dataframe that shows the predicted sales (test)\n",
    "\n",
    "result_list = []\n",
    "booking_dates = list(df_budgets_new[-6:].date)\n",
    "act_bookings = list(df_budgets_new[-6:].booked)\n",
    "for i in range(0,len(pred_test_set_inverted)):\n",
    "    result_dict = {}\n",
    "    result_dict['pred_value'] = int(pred_test_set_inverted[i][0] + act_bookings[i])\n",
    "    result_dict['date'] = booking_dates[i]\n",
    "    result_list.append(result_dict)\n",
    "df_result = pd.DataFrame(result_list)"
   ]
  },
  {
   "cell_type": "code",
   "execution_count": null,
   "metadata": {
    "scrolled": true
   },
   "outputs": [],
   "source": [
    "# Create dataframe that shows the predicted sales (train)\n",
    "\n",
    "result_list2 = []\n",
    "booking_dates2 = list(train_list.date)\n",
    "act_bookings2 = list(train_list.booked)\n",
    "for i in range(0,len(pred_train_set_inverted)):\n",
    "    result_dict2 = {}\n",
    "    result_dict2['pred_value'] = int(pred_train_set_inverted[i][0] + act_bookings2[i])\n",
    "    result_dict2['date'] = booking_dates2[i]\n",
    "    result_list2.append(result_dict2)\n",
    "df_result2 = pd.DataFrame(result_list2)"
   ]
  },
  {
   "cell_type": "code",
   "execution_count": null,
   "metadata": {},
   "outputs": [],
   "source": [
    "# Merge with actual sales dataframe\n",
    "\n",
    "df_budgets_test3 = pd.merge(df_budgets_new,df_result,on = 'date',how = 'left')\n",
    "df_budgets_train3 = pd.merge(df_budgets_new,df_result2,on = 'date',how = 'left')"
   ]
  },
  {
   "cell_type": "code",
   "execution_count": null,
   "metadata": {},
   "outputs": [],
   "source": [
    "# Plot actual and predicted\n",
    "\n",
    "plot_data = [\n",
    "    go.Scatter(\n",
    "        x = df_budgets_new['date'],\n",
    "        y = df_budgets_new['booked'],\n",
    "        name='Actual'\n",
    "    ),\n",
    "        go.Scatter(\n",
    "        x = df_budgets_test3['date'],\n",
    "        y = df_budgets_test3['pred_value'],\n",
    "        name = 'Test Prediction'\n",
    "    ),\n",
    "        go.Scatter(\n",
    "        x = df_budgets_train3['date'],\n",
    "        y = df_budgets_train3['pred_value'],\n",
    "        name = 'Train Prediction'\n",
    "    )\n",
    "    \n",
    "]\n",
    "\n",
    "plot_layout = go.Layout(\n",
    "        title = 'Booking Prediction Using LSTM (SGD)'\n",
    "    )\n",
    "fig = go.Figure(data = plot_data, layout = plot_layout)\n",
    "pyoff.iplot(fig)"
   ]
  },
  {
   "cell_type": "code",
   "execution_count": null,
   "metadata": {
    "scrolled": true
   },
   "outputs": [],
   "source": [
    "rmse = sqrt(mean_squared_error(y_test, test_pred))\n",
    "print('Test RMSE: %.3f' % rmse)\n",
    "\n",
    "mae = sqrt(mean_absolute_error(y_test, test_pred))\n",
    "print('Test MAE: %.3f' % mae)"
   ]
  },
  {
   "cell_type": "code",
   "execution_count": null,
   "metadata": {},
   "outputs": [],
   "source": [
    "rmse = sqrt(mean_squared_error(y_train, train_pred))\n",
    "print('Train RMSE: %.3f' % rmse)\n",
    "\n",
    "mae = sqrt(mean_absolute_error(y_train, train_pred))\n",
    "print('Train MAE: %.3f' % mae)"
   ]
  },
  {
   "cell_type": "markdown",
   "metadata": {},
   "source": [
    "#### LSTM (Adam)"
   ]
  },
  {
   "cell_type": "code",
   "execution_count": null,
   "metadata": {
    "scrolled": false
   },
   "outputs": [],
   "source": [
    "# Build Model\n",
    "\n",
    "np.random.seed(1337)\n",
    "print('Building model...')\n",
    "model = Sequential()\n",
    "model.add(LSTM(4, batch_input_shape=(1, X_train.shape[1], X_train.shape[2]), stateful = True))\n",
    "model.add(Dropout(0.2))\n",
    "model.add(Dense(1))\n",
    "model.add(Activation('relu'))\n",
    "model.compile(loss = 'mean_squared_error', optimizer = 'adam', metrics = ['mse'])"
   ]
  },
  {
   "cell_type": "code",
   "execution_count": null,
   "metadata": {},
   "outputs": [],
   "source": [
    "history = model.fit(X_train, y_train, epochs = 10, batch_size = 1, validation_data = (X_test, y_test), verbose = 0, shuffle = False)"
   ]
  },
  {
   "cell_type": "code",
   "execution_count": null,
   "metadata": {},
   "outputs": [],
   "source": [
    "# Plot history: MSE\n",
    "\n",
    "plt.plot(history.history['mean_squared_error'], label='MSE (training data)')\n",
    "plt.plot(history.history['val_mean_squared_error'], label='MSE (validation data)')\n",
    "plt.ylabel('MSE value')\n",
    "plt.xlabel('No. epoch')\n",
    "plt.legend(loc=\"upper left\")\n",
    "plt.show()"
   ]
  },
  {
   "cell_type": "code",
   "execution_count": null,
   "metadata": {},
   "outputs": [],
   "source": [
    "test_pred = model.predict(X_test,batch_size=1)\n",
    "train_pred = model.predict(X_train,batch_size=1)"
   ]
  },
  {
   "cell_type": "code",
   "execution_count": null,
   "metadata": {},
   "outputs": [],
   "source": [
    "# Seeing the booking prediction\n",
    "# Reshape y_pred and train_pred\n",
    "\n",
    "test_pred_inv = test_pred .reshape(test_pred .shape[0], 1, test_pred .shape[1])\n",
    "train_pred_inv = train_pred.reshape(train_pred.shape[0], 1, train_pred.shape[1])"
   ]
  },
  {
   "cell_type": "code",
   "execution_count": null,
   "metadata": {},
   "outputs": [],
   "source": [
    "# Rebuild test set for inverse transform\n",
    "\n",
    "pred_test_set = []\n",
    "for index in range(0,len(test_pred )):\n",
    "    np.concatenate([test_pred_inv[index],X_test[index]],axis = 1)\n",
    "    pred_test_set.append(np.concatenate([test_pred_inv[index],X_test[index]],axis = 1))"
   ]
  },
  {
   "cell_type": "code",
   "execution_count": null,
   "metadata": {},
   "outputs": [],
   "source": [
    "# Rebuild train set for inverse transform\n",
    "\n",
    "pred_train_set = []\n",
    "for index in range(0,len(train_pred)):\n",
    "    np.concatenate([train_pred_inv[index],X_train[index]],axis = 1)\n",
    "    pred_train_set.append(np.concatenate([train_pred_inv[index],X_train[index]],axis = 1))"
   ]
  },
  {
   "cell_type": "code",
   "execution_count": null,
   "metadata": {},
   "outputs": [],
   "source": [
    "# Reshape pred_test_set and pred_train_set\n",
    "\n",
    "pred_test_set = np.array(pred_test_set)\n",
    "pred_test_set = pred_test_set.reshape(pred_test_set.shape[0], pred_test_set.shape[2])\n",
    "pred_train_set = np.array(pred_train_set)\n",
    "pred_train_set = pred_train_set.reshape(pred_train_set.shape[0], pred_train_set.shape[2])"
   ]
  },
  {
   "cell_type": "code",
   "execution_count": null,
   "metadata": {},
   "outputs": [],
   "source": [
    "# Inverse transform\n",
    "\n",
    "pred_test_set_inverted = scaler.inverse_transform(pred_test_set)\n",
    "pred_train_set_inverted = scaler.inverse_transform(pred_train_set)"
   ]
  },
  {
   "cell_type": "code",
   "execution_count": null,
   "metadata": {},
   "outputs": [],
   "source": [
    "# Create dataframe that shows the predicted sales (test)\n",
    "\n",
    "result_list = []\n",
    "booking_dates = list(df_budgets_new[-6:].date)\n",
    "act_bookings = list(df_budgets_new[-6:].booked)\n",
    "for i in range(0,len(pred_test_set_inverted)):\n",
    "    result_dict = {}\n",
    "    result_dict['pred_value'] = int(pred_test_set_inverted[i][0] + act_bookings[i])\n",
    "    result_dict['date'] = booking_dates[i]\n",
    "    result_list.append(result_dict)\n",
    "df_result = pd.DataFrame(result_list)"
   ]
  },
  {
   "cell_type": "code",
   "execution_count": null,
   "metadata": {
    "scrolled": true
   },
   "outputs": [],
   "source": [
    "# Create dataframe that shows the predicted sales (train)\n",
    "\n",
    "result_list2 = []\n",
    "booking_dates2 = list(train_list.date)\n",
    "act_bookings2 = list(train_list.booked)\n",
    "for i in range(0,len(pred_train_set_inverted)):\n",
    "    result_dict2 = {}\n",
    "    result_dict2['pred_value'] = int(pred_train_set_inverted[i][0] + act_bookings2[i])\n",
    "    result_dict2['date'] = booking_dates2[i]\n",
    "    result_list2.append(result_dict2)\n",
    "df_result2 = pd.DataFrame(result_list2)"
   ]
  },
  {
   "cell_type": "code",
   "execution_count": null,
   "metadata": {},
   "outputs": [],
   "source": [
    "# Merge with actual sales dataframe\n",
    "\n",
    "df_budgets_test4 = pd.merge(df_budgets_new,df_result,on = 'date',how = 'left')\n",
    "df_budgets_train4 = pd.merge(df_budgets_new,df_result2,on = 'date',how = 'left')"
   ]
  },
  {
   "cell_type": "code",
   "execution_count": null,
   "metadata": {},
   "outputs": [],
   "source": [
    "# Plot actual and predicted\n",
    "\n",
    "plot_data = [\n",
    "    go.Scatter(\n",
    "        x = df_budgets_new['date'],\n",
    "        y = df_budgets_new['booked'],\n",
    "        name='Actual'\n",
    "    ),\n",
    "        go.Scatter(\n",
    "        x = df_budgets_test4['date'],\n",
    "        y = df_budgets_test4['pred_value'],\n",
    "        name = 'Test Prediction'\n",
    "    ),\n",
    "        go.Scatter(\n",
    "        x = df_budgets_train4['date'],\n",
    "        y = df_budgets_train4['pred_value'],\n",
    "        name = 'Train Prediction'\n",
    "    )\n",
    "    \n",
    "]\n",
    "\n",
    "plot_layout = go.Layout(\n",
    "        title = 'Booking Prediction Using LSTM (Adam)'\n",
    "    )\n",
    "fig = go.Figure(data = plot_data, layout = plot_layout)\n",
    "pyoff.iplot(fig)"
   ]
  },
  {
   "cell_type": "code",
   "execution_count": null,
   "metadata": {
    "scrolled": true
   },
   "outputs": [],
   "source": [
    "rmse = sqrt(mean_squared_error(y_test, test_pred))\n",
    "print('Test RMSE: %.3f' % rmse)\n",
    "\n",
    "mae = sqrt(mean_absolute_error(y_test, test_pred))\n",
    "print('Test MAE: %.3f' % mae)"
   ]
  },
  {
   "cell_type": "code",
   "execution_count": null,
   "metadata": {},
   "outputs": [],
   "source": [
    "rmse = sqrt(mean_squared_error(y_train, train_pred))\n",
    "print('Train RMSE: %.3f' % rmse)\n",
    "\n",
    "mae = sqrt(mean_absolute_error(y_train, train_pred))\n",
    "print('Train MAE: %.3f' % mae)"
   ]
  },
  {
   "cell_type": "markdown",
   "metadata": {},
   "source": [
    "#### GRU (SGD)"
   ]
  },
  {
   "cell_type": "code",
   "execution_count": null,
   "metadata": {},
   "outputs": [],
   "source": [
    "np.random.seed(1337)\n",
    "print('Building model...')\n",
    "model = Sequential()\n",
    "model.add(GRU(4, batch_input_shape=(1, X_train.shape[1], X_train.shape[2]), stateful = True))\n",
    "model.add(Dropout(0.2))\n",
    "model.add(Dense(1))\n",
    "model.add(Activation('relu'))\n",
    "model.compile(loss = 'mean_squared_error', optimizer = 'SGD', metrics = ['mse'])"
   ]
  },
  {
   "cell_type": "code",
   "execution_count": null,
   "metadata": {
    "scrolled": false
   },
   "outputs": [],
   "source": [
    "history = model.fit(X_train, y_train, epochs = 10, batch_size = 1, validation_data = (X_test, y_test), verbose = 0, shuffle = False)"
   ]
  },
  {
   "cell_type": "code",
   "execution_count": null,
   "metadata": {},
   "outputs": [],
   "source": [
    "# Plot history: MSE\n",
    "\n",
    "plt.plot(history.history['mean_squared_error'], label='MSE (training data)')\n",
    "plt.plot(history.history['val_mean_squared_error'], label='MSE (validation data)')\n",
    "plt.ylabel('MSE value')\n",
    "plt.xlabel('No. epoch')\n",
    "plt.legend(loc=\"upper left\")\n",
    "plt.show()"
   ]
  },
  {
   "cell_type": "code",
   "execution_count": null,
   "metadata": {},
   "outputs": [],
   "source": [
    "test_pred = model.predict(X_test,batch_size=1)\n",
    "train_pred = model.predict(X_train,batch_size=1)"
   ]
  },
  {
   "cell_type": "code",
   "execution_count": null,
   "metadata": {},
   "outputs": [],
   "source": [
    "# Seeing the booking prediction\n",
    "# Reshape y_pred and train_pred\n",
    "\n",
    "test_pred_inv = test_pred .reshape(test_pred .shape[0], 1, test_pred .shape[1])\n",
    "train_pred_inv = train_pred.reshape(train_pred.shape[0], 1, train_pred.shape[1])"
   ]
  },
  {
   "cell_type": "code",
   "execution_count": null,
   "metadata": {},
   "outputs": [],
   "source": [
    "# Rebuild test set for inverse transform\n",
    "\n",
    "pred_test_set = []\n",
    "for index in range(0,len(test_pred )):\n",
    "    np.concatenate([test_pred_inv[index],X_test[index]],axis = 1)\n",
    "    pred_test_set.append(np.concatenate([test_pred_inv[index],X_test[index]],axis = 1))"
   ]
  },
  {
   "cell_type": "code",
   "execution_count": null,
   "metadata": {},
   "outputs": [],
   "source": [
    "# Rebuild train set for inverse transform\n",
    "\n",
    "pred_train_set = []\n",
    "for index in range(0,len(train_pred)):\n",
    "    np.concatenate([train_pred_inv[index],X_train[index]],axis = 1)\n",
    "    pred_train_set.append(np.concatenate([train_pred_inv[index],X_train[index]],axis = 1))"
   ]
  },
  {
   "cell_type": "code",
   "execution_count": null,
   "metadata": {},
   "outputs": [],
   "source": [
    "# Reshape pred_test_set and pred_train_set\n",
    "\n",
    "pred_test_set = np.array(pred_test_set)\n",
    "pred_test_set = pred_test_set.reshape(pred_test_set.shape[0], pred_test_set.shape[2])\n",
    "pred_train_set = np.array(pred_train_set)\n",
    "pred_train_set = pred_train_set.reshape(pred_train_set.shape[0], pred_train_set.shape[2])"
   ]
  },
  {
   "cell_type": "code",
   "execution_count": null,
   "metadata": {},
   "outputs": [],
   "source": [
    "# Inverse transform\n",
    "\n",
    "pred_test_set_inverted = scaler.inverse_transform(pred_test_set)\n",
    "pred_train_set_inverted = scaler.inverse_transform(pred_train_set)"
   ]
  },
  {
   "cell_type": "code",
   "execution_count": null,
   "metadata": {},
   "outputs": [],
   "source": [
    "# Create dataframe that shows the predicted sales (test)\n",
    "\n",
    "result_list = []\n",
    "booking_dates = list(df_budgets_new[-6:].date)\n",
    "act_bookings = list(df_budgets_new[-6:].booked)\n",
    "for i in range(0,len(pred_test_set_inverted)):\n",
    "    result_dict = {}\n",
    "    result_dict['pred_value'] = int(pred_test_set_inverted[i][0] + act_bookings[i])\n",
    "    result_dict['date'] = booking_dates[i]\n",
    "    result_list.append(result_dict)\n",
    "df_result = pd.DataFrame(result_list)"
   ]
  },
  {
   "cell_type": "code",
   "execution_count": null,
   "metadata": {
    "scrolled": true
   },
   "outputs": [],
   "source": [
    "# Create dataframe that shows the predicted sales (train)\n",
    "\n",
    "result_list2 = []\n",
    "booking_dates2 = list(train_list.date)\n",
    "act_bookings2 = list(train_list.booked)\n",
    "for i in range(0,len(pred_train_set_inverted)):\n",
    "    result_dict2 = {}\n",
    "    result_dict2['pred_value'] = int(pred_train_set_inverted[i][0] + act_bookings2[i])\n",
    "    result_dict2['date'] = booking_dates2[i]\n",
    "    result_list2.append(result_dict2)\n",
    "df_result2 = pd.DataFrame(result_list2)"
   ]
  },
  {
   "cell_type": "code",
   "execution_count": null,
   "metadata": {},
   "outputs": [],
   "source": [
    "# Merge with actual sales dataframe\n",
    "\n",
    "df_budgets_test5 = pd.merge(df_budgets_new,df_result,on = 'date',how = 'left')\n",
    "df_budgets_train5 = pd.merge(df_budgets_new,df_result2,on = 'date',how = 'left')"
   ]
  },
  {
   "cell_type": "code",
   "execution_count": null,
   "metadata": {},
   "outputs": [],
   "source": [
    "# Plot actual and predicted\n",
    "\n",
    "plot_data = [\n",
    "    go.Scatter(\n",
    "        x = df_budgets_new['date'],\n",
    "        y = df_budgets_new['booked'],\n",
    "        name='Actual'\n",
    "    ),\n",
    "        go.Scatter(\n",
    "        x = df_budgets_test5['date'],\n",
    "        y = df_budgets_test5['pred_value'],\n",
    "        name = 'Test Prediction'\n",
    "    ),\n",
    "        go.Scatter(\n",
    "        x = df_budgets_train5['date'],\n",
    "        y = df_budgets_train5['pred_value'],\n",
    "        name = 'Train Prediction'\n",
    "    )\n",
    "    \n",
    "]\n",
    "\n",
    "plot_layout = go.Layout(\n",
    "        title = 'Booking Prediction Using GRU (SGD)'\n",
    "    )\n",
    "fig = go.Figure(data = plot_data, layout = plot_layout)\n",
    "pyoff.iplot(fig)"
   ]
  },
  {
   "cell_type": "code",
   "execution_count": null,
   "metadata": {
    "scrolled": false
   },
   "outputs": [],
   "source": [
    "rmse = sqrt(mean_squared_error(y_test, test_pred))\n",
    "print('Test RMSE: %.3f' % rmse)\n",
    "\n",
    "mae = sqrt(mean_absolute_error(y_test, test_pred))\n",
    "print('Test MAE: %.3f' % mae)"
   ]
  },
  {
   "cell_type": "code",
   "execution_count": null,
   "metadata": {},
   "outputs": [],
   "source": [
    "rmse = sqrt(mean_squared_error(y_train, train_pred))\n",
    "print('Train RMSE: %.3f' % rmse)\n",
    "\n",
    "mae = sqrt(mean_absolute_error(y_train, train_pred))\n",
    "print('Train MAE: %.3f' % mae)"
   ]
  },
  {
   "cell_type": "markdown",
   "metadata": {},
   "source": [
    "#### GRU (Adam)"
   ]
  },
  {
   "cell_type": "code",
   "execution_count": null,
   "metadata": {},
   "outputs": [],
   "source": [
    "np.random.seed(1337)\n",
    "print('Building model...')\n",
    "model = Sequential()\n",
    "model.add(GRU(4, batch_input_shape=(1, X_train.shape[1], X_train.shape[2]), stateful = True))\n",
    "model.add(Dropout(0.2))\n",
    "model.add(Dense(1))\n",
    "model.add(Activation('relu'))\n",
    "model.compile(loss = 'mean_squared_error', optimizer = 'adam', metrics = ['mse'])"
   ]
  },
  {
   "cell_type": "code",
   "execution_count": null,
   "metadata": {
    "scrolled": false
   },
   "outputs": [],
   "source": [
    "history = model.fit(X_train, y_train, epochs = 10, batch_size = 1, validation_data = (X_test, y_test), verbose = 0, shuffle = False)"
   ]
  },
  {
   "cell_type": "code",
   "execution_count": null,
   "metadata": {},
   "outputs": [],
   "source": [
    "# Plot history: MSE\n",
    "\n",
    "plt.plot(history.history['mean_squared_error'], label='MSE (training data)')\n",
    "plt.plot(history.history['val_mean_squared_error'], label='MSE (validation data)')\n",
    "plt.ylabel('MSE value')\n",
    "plt.xlabel('No. epoch')\n",
    "plt.legend(loc=\"upper left\")\n",
    "plt.show()"
   ]
  },
  {
   "cell_type": "code",
   "execution_count": null,
   "metadata": {},
   "outputs": [],
   "source": [
    "test_pred = model.predict(X_test,batch_size=1)\n",
    "train_pred = model.predict(X_train,batch_size=1)"
   ]
  },
  {
   "cell_type": "code",
   "execution_count": null,
   "metadata": {},
   "outputs": [],
   "source": [
    "# Seeing the booking prediction\n",
    "# Reshape y_pred and train_pred\n",
    "\n",
    "test_pred_inv = test_pred .reshape(test_pred .shape[0], 1, test_pred .shape[1])\n",
    "train_pred_inv = train_pred.reshape(train_pred.shape[0], 1, train_pred.shape[1])"
   ]
  },
  {
   "cell_type": "code",
   "execution_count": null,
   "metadata": {},
   "outputs": [],
   "source": [
    "# Rebuild test set for inverse transform\n",
    "\n",
    "pred_test_set = []\n",
    "for index in range(0,len(test_pred )):\n",
    "    np.concatenate([test_pred_inv[index],X_test[index]],axis = 1)\n",
    "    pred_test_set.append(np.concatenate([test_pred_inv[index],X_test[index]],axis = 1))"
   ]
  },
  {
   "cell_type": "code",
   "execution_count": null,
   "metadata": {},
   "outputs": [],
   "source": [
    "# Rebuild train set for inverse transform\n",
    "\n",
    "pred_train_set = []\n",
    "for index in range(0,len(train_pred)):\n",
    "    np.concatenate([train_pred_inv[index],X_train[index]],axis = 1)\n",
    "    pred_train_set.append(np.concatenate([train_pred_inv[index],X_train[index]],axis = 1))"
   ]
  },
  {
   "cell_type": "code",
   "execution_count": null,
   "metadata": {},
   "outputs": [],
   "source": [
    "# Reshape pred_test_set and pred_train_set\n",
    "\n",
    "pred_test_set = np.array(pred_test_set)\n",
    "pred_test_set = pred_test_set.reshape(pred_test_set.shape[0], pred_test_set.shape[2])\n",
    "pred_train_set = np.array(pred_train_set)\n",
    "pred_train_set = pred_train_set.reshape(pred_train_set.shape[0], pred_train_set.shape[2])"
   ]
  },
  {
   "cell_type": "code",
   "execution_count": null,
   "metadata": {},
   "outputs": [],
   "source": [
    "# Inverse transform\n",
    "\n",
    "pred_test_set_inverted = scaler.inverse_transform(pred_test_set)\n",
    "pred_train_set_inverted = scaler.inverse_transform(pred_train_set)"
   ]
  },
  {
   "cell_type": "code",
   "execution_count": null,
   "metadata": {},
   "outputs": [],
   "source": [
    "# Create dataframe that shows the predicted sales (test)\n",
    "\n",
    "result_list = []\n",
    "booking_dates = list(df_budgets_new[-6:].date)\n",
    "act_bookings = list(df_budgets_new[-6:].booked)\n",
    "for i in range(0,len(pred_test_set_inverted)):\n",
    "    result_dict = {}\n",
    "    result_dict['pred_value'] = int(pred_test_set_inverted[i][0] + act_bookings[i])\n",
    "    result_dict['date'] = booking_dates[i]\n",
    "    result_list.append(result_dict)\n",
    "df_result = pd.DataFrame(result_list)"
   ]
  },
  {
   "cell_type": "code",
   "execution_count": null,
   "metadata": {
    "scrolled": true
   },
   "outputs": [],
   "source": [
    "# Create dataframe that shows the predicted sales (train)\n",
    "\n",
    "result_list2 = []\n",
    "booking_dates2 = list(train_list.date)\n",
    "act_bookings2 = list(train_list.booked)\n",
    "for i in range(0,len(pred_train_set_inverted)):\n",
    "    result_dict2 = {}\n",
    "    result_dict2['pred_value'] = int(pred_train_set_inverted[i][0] + act_bookings2[i])\n",
    "    result_dict2['date'] = booking_dates2[i]\n",
    "    result_list2.append(result_dict2)\n",
    "df_result2 = pd.DataFrame(result_list2)"
   ]
  },
  {
   "cell_type": "code",
   "execution_count": null,
   "metadata": {},
   "outputs": [],
   "source": [
    "# Merge with actual sales dataframe\n",
    "\n",
    "df_budgets_test6 = pd.merge(df_budgets_new,df_result,on = 'date',how = 'left')\n",
    "df_budgets_train6 = pd.merge(df_budgets_new,df_result2,on = 'date',how = 'left')"
   ]
  },
  {
   "cell_type": "code",
   "execution_count": null,
   "metadata": {},
   "outputs": [],
   "source": [
    "# Plot actual and predicted\n",
    "\n",
    "plot_data = [\n",
    "    go.Scatter(\n",
    "        x = df_budgets_new['date'],\n",
    "        y = df_budgets_new['booked'],\n",
    "        name='Actual'\n",
    "    ),\n",
    "        go.Scatter(\n",
    "        x = df_budgets_test6['date'],\n",
    "        y = df_budgets_test6['pred_value'],\n",
    "        name = 'Test Prediction'\n",
    "    ),\n",
    "        go.Scatter(\n",
    "        x = df_budgets_train6['date'],\n",
    "        y = df_budgets_train6['pred_value'],\n",
    "        name = 'Train Prediction'\n",
    "    )\n",
    "    \n",
    "]\n",
    "\n",
    "plot_layout = go.Layout(\n",
    "        title = 'Booking Prediction Using GRU (Adam)'\n",
    "    )\n",
    "fig = go.Figure(data = plot_data, layout = plot_layout)\n",
    "pyoff.iplot(fig)"
   ]
  },
  {
   "cell_type": "code",
   "execution_count": null,
   "metadata": {
    "scrolled": false
   },
   "outputs": [],
   "source": [
    "rmse = sqrt(mean_squared_error(y_test, test_pred))\n",
    "print('Test RMSE: %.3f' % rmse)\n",
    "\n",
    "mae = sqrt(mean_absolute_error(y_test, test_pred))\n",
    "print('Test MAE: %.3f' % mae)"
   ]
  },
  {
   "cell_type": "code",
   "execution_count": null,
   "metadata": {},
   "outputs": [],
   "source": [
    "rmse = sqrt(mean_squared_error(y_train, train_pred))\n",
    "print('Train RMSE: %.3f' % rmse)\n",
    "\n",
    "mae = sqrt(mean_absolute_error(y_train, train_pred))\n",
    "print('Train MAE: %.3f' % mae)"
   ]
  },
  {
   "cell_type": "markdown",
   "metadata": {},
   "source": [
    "### Future Predictions"
   ]
  },
  {
   "cell_type": "code",
   "execution_count": null,
   "metadata": {},
   "outputs": [],
   "source": [
    "train_set = df_model.values"
   ]
  },
  {
   "cell_type": "code",
   "execution_count": null,
   "metadata": {},
   "outputs": [],
   "source": [
    "# Apply Min Max Scaler\n",
    "\n",
    "scaler = MinMaxScaler(feature_range=(-1, 1))\n",
    "scaler = scaler.fit(train_set)"
   ]
  },
  {
   "cell_type": "code",
   "execution_count": null,
   "metadata": {},
   "outputs": [],
   "source": [
    "# Reshape training set\n",
    "\n",
    "train_set = train_set.reshape(train_set.shape[0], train_set.shape[1])\n",
    "train_set_scaled = scaler.transform(train_set)"
   ]
  },
  {
   "cell_type": "code",
   "execution_count": null,
   "metadata": {},
   "outputs": [],
   "source": [
    "X_train, y_train = train_set_scaled[:, 1:], train_set_scaled[:, 0:1]\n",
    "X_train = X_train.reshape(X_train.shape[0], 1, X_train.shape[1])"
   ]
  },
  {
   "cell_type": "code",
   "execution_count": null,
   "metadata": {},
   "outputs": [],
   "source": [
    "np.random.seed(1337)\n",
    "print('Building model...')\n",
    "model = Sequential()\n",
    "model.add(GRU(4, batch_input_shape=(1, X_train.shape[1], X_train.shape[2]), stateful = True))\n",
    "model.add(Dropout(0.2))\n",
    "model.add(Dense(1))\n",
    "model.add(Activation('relu'))\n",
    "model.compile(loss='mean_squared_error', optimizer='adam', metrics=['mse'])"
   ]
  },
  {
   "cell_type": "code",
   "execution_count": null,
   "metadata": {},
   "outputs": [],
   "source": [
    "model.fit(X_train, y_train, epochs = 10, batch_size = 1, verbose = 0, shuffle = False)"
   ]
  },
  {
   "cell_type": "code",
   "execution_count": null,
   "metadata": {},
   "outputs": [],
   "source": [
    "y_pred = model.predict(X_train,batch_size=1)"
   ]
  },
  {
   "cell_type": "code",
   "execution_count": null,
   "metadata": {},
   "outputs": [],
   "source": [
    "y_pred = y_pred[:-13]"
   ]
  },
  {
   "cell_type": "code",
   "execution_count": null,
   "metadata": {},
   "outputs": [],
   "source": [
    "# Seeing the booking prediction\n",
    "# Reshape y_pred\n",
    "\n",
    "y_pred = y_pred.reshape(y_pred.shape[0], 1, y_pred.shape[1])"
   ]
  },
  {
   "cell_type": "code",
   "execution_count": null,
   "metadata": {},
   "outputs": [],
   "source": [
    "# Rebuild for inverse transform\n",
    "\n",
    "pred_set = []\n",
    "for index in range(0,len(y_pred)):\n",
    "    np.concatenate([y_pred[index],X_train[index]],axis = 1)\n",
    "    pred_set.append(np.concatenate([y_pred[index],X_train[index]],axis = 1))"
   ]
  },
  {
   "cell_type": "code",
   "execution_count": null,
   "metadata": {},
   "outputs": [],
   "source": [
    "pred_set = np.array(pred_set)\n",
    "pred_set = pred_set.reshape(pred_set.shape[0], pred_set.shape[2])"
   ]
  },
  {
   "cell_type": "code",
   "execution_count": null,
   "metadata": {},
   "outputs": [],
   "source": [
    "# Inverse transform\n",
    "\n",
    "pred_set_inverted = scaler.inverse_transform(pred_set)"
   ]
  },
  {
   "cell_type": "code",
   "execution_count": null,
   "metadata": {},
   "outputs": [],
   "source": [
    "df_budgets = df_budgets.set_index('date')"
   ]
  },
  {
   "cell_type": "code",
   "execution_count": null,
   "metadata": {},
   "outputs": [],
   "source": [
    "df_budgets.tail()"
   ]
  },
  {
   "cell_type": "code",
   "execution_count": null,
   "metadata": {},
   "outputs": [],
   "source": [
    "# Generate future dates\n",
    "\n",
    "add_dates = [df_budgets.index[-1] + DateOffset(months = x) for x in range(0,13)]\n",
    "future_dates = pd.DataFrame(index = add_dates[1:],columns = df_budgets.columns)"
   ]
  },
  {
   "cell_type": "code",
   "execution_count": null,
   "metadata": {},
   "outputs": [],
   "source": [
    "future_dates = future_dates.rename_axis('date').reset_index()\n",
    "future_dates.tail()"
   ]
  },
  {
   "cell_type": "code",
   "execution_count": null,
   "metadata": {},
   "outputs": [],
   "source": [
    "# Create dataframe that shows the predicted sales\n",
    "\n",
    "result_list = []\n",
    "booking_dates = list(future_dates[-12:].date)\n",
    "for i in range(0,len(pred_set_inverted)):\n",
    "    result_dict = {}\n",
    "    result_dict['pred_value'] = int(pred_set_inverted[i][0])\n",
    "    result_dict['date'] = booking_dates[i]\n",
    "    result_list.append(result_dict)\n",
    "df_result = pd.DataFrame(result_list)"
   ]
  },
  {
   "cell_type": "code",
   "execution_count": null,
   "metadata": {},
   "outputs": [],
   "source": [
    "df_budgets = df_budgets.rename_axis('date').reset_index()\n",
    "df_budgets.tail()"
   ]
  },
  {
   "cell_type": "code",
   "execution_count": null,
   "metadata": {},
   "outputs": [],
   "source": [
    "# Merge with actual sales dataframe\n",
    "\n",
    "df_budgets_forecast = pd.concat([df_budgets_new,df_result])\n",
    "df_budgets_forecast = df_budgets_forecast.reset_index(drop = True)"
   ]
  },
  {
   "cell_type": "code",
   "execution_count": null,
   "metadata": {},
   "outputs": [],
   "source": [
    "df_budgets_forecast2 = df_budgets_test5.iloc[19:25]\n",
    "df_budgets_forecast2"
   ]
  },
  {
   "cell_type": "code",
   "execution_count": null,
   "metadata": {},
   "outputs": [],
   "source": [
    "df_budgets_forecast = df_budgets_forecast.fillna(df_budgets_forecast2)"
   ]
  },
  {
   "cell_type": "code",
   "execution_count": null,
   "metadata": {},
   "outputs": [],
   "source": [
    "# Plot actual and predicted\n",
    "\n",
    "plot_data = [\n",
    "    go.Scatter(\n",
    "        x = df_budgets_forecast['date'],\n",
    "        y = df_budgets_forecast['booked'],\n",
    "        name = 'Actual'\n",
    "    ),\n",
    "        go.Scatter(\n",
    "        x = df_budgets_forecast['date'],\n",
    "        y = df_budgets_forecast['pred_value'],\n",
    "        name = 'Predicted'\n",
    "    )\n",
    "    \n",
    "]\n",
    "\n",
    "plot_layout = go.Layout(\n",
    "        title = 'Future Booking Prediction'\n",
    "    )\n",
    "fig = go.Figure(data = plot_data, layout = plot_layout)\n",
    "pyoff.iplot(fig)"
   ]
  },
  {
   "cell_type": "code",
   "execution_count": null,
   "metadata": {},
   "outputs": [],
   "source": [
    "print('End of notebook.')"
   ]
  }
 ],
 "metadata": {
  "kernelspec": {
   "display_name": "Python [conda env:Python3]",
   "language": "python",
   "name": "conda-env-Python3-py"
  },
  "language_info": {
   "codemirror_mode": {
    "name": "ipython",
    "version": 3
   },
   "file_extension": ".py",
   "mimetype": "text/x-python",
   "name": "python",
   "nbconvert_exporter": "python",
   "pygments_lexer": "ipython3",
   "version": "3.6.10"
  }
 },
 "nbformat": 4,
 "nbformat_minor": 2
}
